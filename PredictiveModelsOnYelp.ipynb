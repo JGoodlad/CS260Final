{
 "cells": [
  {
   "cell_type": "markdown",
   "metadata": {},
   "source": [
    "## Load Data into Features and Labels"
   ]
  },
  {
   "cell_type": "code",
   "execution_count": 1,
   "metadata": {
    "collapsed": false
   },
   "outputs": [
    {
     "name": "stdout",
     "output_type": "stream",
     "text": [
      "['0.008293249295', '0.000095877277', '4.5', '4', '4.50', '4.52467232074017', '0.653652515029939', '0.015805705474', '0.017347725520', '0.055127216653', '0.249807247494', '0.661912104857', '0', '5', '-0.0714285714285714', '4.21428571428571', '0.000000000000', '1.000000000000', '1.000000000000', '0.000000000000', '0.000000000000', '1.000000000000', '1.000000000000', '0.000000000000', '5']\n",
      "<class 'list'>\n"
     ]
    }
   ],
   "source": [
    "import csv \n",
    "\n",
    "with open(\"/Users/alexraman/Desktop/UCLA/Masters/CS260/GroupProject/TrainData.csv\") as f:\n",
    "    reader = csv.reader(f)\n",
    "    header_names = next(reader)\n",
    "    data = []\n",
    "    for row in reader:\n",
    "        data.append(row)\n",
    "        \n",
    "print(data[0])\n",
    "print(type(data[0]))"
   ]
  },
  {
   "cell_type": "code",
   "execution_count": 2,
   "metadata": {
    "collapsed": false
   },
   "outputs": [
    {
     "name": "stdout",
     "output_type": "stream",
     "text": [
      "150197\n"
     ]
    }
   ],
   "source": [
    "print(len(data))\n"
   ]
  },
  {
   "cell_type": "code",
   "execution_count": 3,
   "metadata": {
    "collapsed": false
   },
   "outputs": [
    {
     "name": "stdout",
     "output_type": "stream",
     "text": [
      "['0.008293249295', '0.000095877277', '4.5', '4', '4.50', '4.52467232074017', '0.653652515029939', '0.015805705474', '0.017347725520', '0.055127216653', '0.249807247494', '0.661912104857', '0', '5', '-0.0714285714285714', '4.21428571428571', '0.000000000000', '1.000000000000', '1.000000000000', '0.000000000000', '0.000000000000', '1.000000000000', '1.000000000000', '0.000000000000']\n",
      "['0.660806103831', '0.036361457334', '4.02', '4', '4.00', '4.12082281301054', '0.821717139489925', '0.018342492202', '0.040843606119', '0.125129956928', '0.433016485964', '0.382667458785', '-8.11767379939605E-05', '3.84663008301674', '0.000332617500657355', '4.09031104298397', '0.328502415458', '0.671497584541', '0.386473429951', '0.285024154589', '0.022801302931', '0.977198697068', '0.654723127035', '0.322475570032']\n",
      "4\n",
      "['\\ufeffBusinessReviewCount', 'UserReviewCount', 'RealUserAverageStars', 'BusinessAverageStars', 'NearestUserAverageStars', 'ReviewCategoryAverageStars', 'ReviewCategoryVariance', 'OneStar', 'TwoStar', 'ThreeStar', 'FourStar', 'FiveStar', 'UserSlopeM', 'UserInterceptB', 'BusinessSlopeM', 'BusinessInterceptB', 'UserEqualratedPercent', 'UserOverunderratedReviewPercent', 'UserOverratedPercent', 'UserUnderratedPercent', 'BusinessEqualratedPercent', 'BusinessOverunderratedReviewPercent', 'BusinessOverratedPercent', 'BusinessUnderratedPercent', 'y']\n"
     ]
    }
   ],
   "source": [
    "print(data[0][0:len(data[0])-1])\n",
    "\n",
    "X = [elem[0:len(elem)-1] for i, elem in enumerate(data) if i < len(data)-1]\n",
    "y = [elem[-1] for i, elem in enumerate(data) if i < len(data)-1]\n",
    "\n",
    "\n",
    "print(X[-1])\n",
    "print(y[-1])\n",
    "print(header_names)"
   ]
  },
  {
   "cell_type": "code",
   "execution_count": 4,
   "metadata": {
    "collapsed": false
   },
   "outputs": [
    {
     "name": "stdout",
     "output_type": "stream",
     "text": [
      "[0.008293249295, 9.5877277e-05, 4.5, 4.0, 4.5, 4.52467232074017, 0.653652515029939, 0.015805705474, 0.01734772552, 0.055127216653, 0.249807247494, 0.661912104857, 0.0, 5.0, -0.0714285714285714, 4.21428571428571, 0.0, 1.0, 1.0, 0.0, 0.0, 1.0, 1.0, 0.0]\n",
      "<class 'float'>\n"
     ]
    }
   ],
   "source": [
    "for i, row in enumerate(X):\n",
    "    for j, num in enumerate(row):\n",
    "        X[i][j] = float(num)\n",
    "        \n",
    "for k, num in enumerate(y):\n",
    "    y[k] = float(num)\n",
    "    \n",
    "print(X[0])\n",
    "print(type(y[0]))"
   ]
  },
  {
   "cell_type": "markdown",
   "metadata": {},
   "source": [
    "## Split into Training and Testing Set"
   ]
  },
  {
   "cell_type": "code",
   "execution_count": 5,
   "metadata": {
    "collapsed": true
   },
   "outputs": [],
   "source": [
    "import numpy as np\n",
    "\n",
    "X_np = np.array(X)\n",
    "y_np = np.array(y)\n",
    "\n",
    "\n",
    "from sklearn.svm import SVC\n",
    "from sklearn.model_selection import train_test_split\n",
    "X_train, X_test, y_train, y_test = train_test_split(X_np, y_np, test_size=0.33, random_state=42)\n",
    "\n"
   ]
  },
  {
   "cell_type": "code",
   "execution_count": 8,
   "metadata": {
    "collapsed": false
   },
   "outputs": [
    {
     "name": "stdout",
     "output_type": "stream",
     "text": [
      "(150196, 24)\n",
      "(150196,)\n"
     ]
    }
   ],
   "source": [
    "print(X_np.shape)\n",
    "print(y_np.shape)"
   ]
  },
  {
   "cell_type": "markdown",
   "metadata": {},
   "source": [
    "## SVM"
   ]
  },
  {
   "cell_type": "code",
   "execution_count": null,
   "metadata": {
    "collapsed": true
   },
   "outputs": [],
   "source": [
    "clf = SVC(kernel = 'linear')\n",
    "clf.fit(X_train, y_train) "
   ]
  },
  {
   "cell_type": "code",
   "execution_count": null,
   "metadata": {
    "collapsed": true
   },
   "outputs": [],
   "source": [
    "y_pred = clf.predict(X_test)\n",
    "\n",
    "from sklearn.metrics import accuracy_score\n",
    "accuracy_score(y_test, y_pred)"
   ]
  },
  {
   "cell_type": "code",
   "execution_count": null,
   "metadata": {
    "collapsed": true
   },
   "outputs": [],
   "source": [
    "from sklearn.metrics import confusion_matrix\n",
    "\n",
    "confusion_matrix(y_test, y_pred)"
   ]
  },
  {
   "cell_type": "code",
   "execution_count": null,
   "metadata": {
    "collapsed": true
   },
   "outputs": [],
   "source": [
    "from sklearn.metrics import mean_squared_error\n",
    "mean_squared_error(y_test, y_pred)"
   ]
  },
  {
   "cell_type": "markdown",
   "metadata": {},
   "source": [
    "## Random Forest"
   ]
  },
  {
   "cell_type": "code",
   "execution_count": null,
   "metadata": {
    "collapsed": true
   },
   "outputs": [],
   "source": [
    "from sklearn.ensemble import RandomForestClassifier\n",
    "from sklearn.datasets import make_classification\n",
    "\n",
    "rf_clf = RandomForestClassifier(n_estimators=1000, max_depth=15, random_state=0)\n",
    "rf_clf.fit(X_train, y_train)"
   ]
  },
  {
   "cell_type": "code",
   "execution_count": null,
   "metadata": {
    "collapsed": true
   },
   "outputs": [],
   "source": [
    "y_pred = rf_clf.predict(X_test)\n",
    "mean_squared_error(y_test, y_pred)"
   ]
  },
  {
   "cell_type": "markdown",
   "metadata": {},
   "source": [
    "## Logistic Regression"
   ]
  },
  {
   "cell_type": "code",
   "execution_count": null,
   "metadata": {
    "collapsed": true
   },
   "outputs": [],
   "source": [
    "from sklearn.linear_model import LogisticRegression\n",
    "lr_clf = LogisticRegression(random_state=0, solver='lbfgs', max_iter = 10000).fit(X_train, y_train)\n"
   ]
  },
  {
   "cell_type": "code",
   "execution_count": null,
   "metadata": {
    "collapsed": true
   },
   "outputs": [],
   "source": [
    "y_pred = lr_clf.predict(X_test)\n",
    "mean_squared_error(y_test, y_pred)"
   ]
  },
  {
   "cell_type": "code",
   "execution_count": 6,
   "metadata": {
    "collapsed": false
   },
   "outputs": [
    {
     "name": "stdout",
     "output_type": "stream",
     "text": [
      "Decision Tree\n",
      "1.1198224553616463\n",
      "\n",
      "Random Forest\n",
      "1.2809442146676082\n",
      "\n",
      "Neural Net\n",
      "1.0738222536063755\n",
      "\n",
      "AdaBoost\n",
      "1.1578936749722586\n",
      "\n",
      "Naive Bayes\n",
      "1.3277716130333905\n",
      "\n",
      "QDA\n",
      "1.239443155452436\n",
      "\n"
     ]
    },
    {
     "name": "stderr",
     "output_type": "stream",
     "text": [
      "/Users/alexraman/anaconda/envs/py36/lib/python3.6/site-packages/sklearn/discriminant_analysis.py:692: UserWarning: Variables are collinear\n",
      "  warnings.warn(\"Variables are collinear\")\n"
     ]
    }
   ],
   "source": [
    "import numpy as np\n",
    "import matplotlib.pyplot as plt\n",
    "from sklearn.model_selection import train_test_split\n",
    "from sklearn.preprocessing import StandardScaler\n",
    "from sklearn.datasets import make_moons, make_circles, make_classification\n",
    "from sklearn.neural_network import MLPClassifier\n",
    "from sklearn.neighbors import KNeighborsClassifier\n",
    "from sklearn.svm import SVC\n",
    "from sklearn.gaussian_process import GaussianProcessClassifier\n",
    "from sklearn.gaussian_process.kernels import RBF\n",
    "from sklearn.tree import DecisionTreeClassifier\n",
    "from sklearn.ensemble import RandomForestClassifier, AdaBoostClassifier\n",
    "from sklearn.naive_bayes import GaussianNB\n",
    "from sklearn.discriminant_analysis import QuadraticDiscriminantAnalysis\n",
    "from sklearn.metrics import mean_squared_error\n",
    "\n",
    "\n",
    "names = [\"Nearest Neighbors\", \"Linear SVM\", \"RBF SVM\", \n",
    "         \"Decision Tree\", \"Random Forest\", \"Neural Net\", \"AdaBoost\",\n",
    "         \"Naive Bayes\", \"QDA\"]\n",
    "\n",
    "classifiers = [\n",
    "    KNeighborsClassifier(3),\n",
    "    SVC(kernel=\"linear\", C=0.025),\n",
    "    SVC(gamma=2, C=1),\n",
    "    DecisionTreeClassifier(max_depth=5),\n",
    "    RandomForestClassifier(max_depth=5, n_estimators=10, max_features=1),\n",
    "    MLPClassifier(alpha=1),\n",
    "    AdaBoostClassifier(),\n",
    "    GaussianNB(),\n",
    "    QuadraticDiscriminantAnalysis()]\n",
    "\n",
    "# iterate over classifiers\n",
    "for name, clf in zip(names, classifiers):\n",
    "    if name == \"Nearest Neighbors\" or name == \"Linear SVM\" or name == \"RBF SVM\":\n",
    "        continue\n",
    "    print(name)\n",
    "    clf.fit(X_train, y_train)\n",
    "    \n",
    "    y_pred = clf.predict(X_test)\n",
    "    print(mean_squared_error(y_test, y_pred))\n",
    "    print()\n",
    "\n"
   ]
  },
  {
   "cell_type": "code",
   "execution_count": null,
   "metadata": {
    "collapsed": true
   },
   "outputs": [],
   "source": [
    "##Previous results\n",
    "    \n",
    "# Nearest Neighbors\n",
    "# 1.7394128921618077\n",
    "\n",
    "# Linear SVM\n",
    "# 1.0676687178452537\n",
    "\n",
    "# RBF SVM\n",
    "# 1.0929284777564814"
   ]
  },
  {
   "cell_type": "code",
   "execution_count": null,
   "metadata": {
    "collapsed": true
   },
   "outputs": [],
   "source": []
  },
  {
   "cell_type": "code",
   "execution_count": null,
   "metadata": {
    "collapsed": true
   },
   "outputs": [],
   "source": []
  }
 ],
 "metadata": {
  "kernelspec": {
   "display_name": "Python 2",
   "language": "python",
   "name": "python2"
  },
  "language_info": {
   "codemirror_mode": {
    "name": "ipython",
    "version": 2
   },
   "file_extension": ".py",
   "mimetype": "text/x-python",
   "name": "python",
   "nbconvert_exporter": "python",
   "pygments_lexer": "ipython2",
   "version": "2.7.13"
  }
 },
 "nbformat": 4,
 "nbformat_minor": 2
}
